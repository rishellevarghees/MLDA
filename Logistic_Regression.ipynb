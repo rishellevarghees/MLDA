{
  "nbformat": 4,
  "nbformat_minor": 0,
  "metadata": {
    "colab": {
      "provenance": [],
      "authorship_tag": "ABX9TyOjkhHlugoL6kbmjEf+kyMC",
      "include_colab_link": true
    },
    "kernelspec": {
      "name": "python3",
      "display_name": "Python 3"
    },
    "language_info": {
      "name": "python"
    }
  },
  "cells": [
    {
      "cell_type": "markdown",
      "metadata": {
        "id": "view-in-github",
        "colab_type": "text"
      },
      "source": [
        "<a href=\"https://colab.research.google.com/github/rishellevarghees/MLDA/blob/main/Logistic_Regression.ipynb\" target=\"_parent\"><img src=\"https://colab.research.google.com/assets/colab-badge.svg\" alt=\"Open In Colab\"/></a>"
      ]
    },
    {
      "cell_type": "code",
      "execution_count": 1,
      "metadata": {
        "colab": {
          "base_uri": "https://localhost:8080/"
        },
        "id": "qY_HtzmWp_Zt",
        "outputId": "e6837ea5-5af2-4e76-e836-1687b4a3ead8"
      },
      "outputs": [
        {
          "output_type": "stream",
          "name": "stdout",
          "text": [
            "    EmpId  Satisfaction  Evaluation  number_of_projects  average_montly_hours  \\\n",
            "0  780152           3.8         5.3                   2                   157   \n",
            "1  780153           8.0         8.6                   5                   262   \n",
            "2  780154           1.1         8.8                   7                   272   \n",
            "3  780155           7.2         8.7                   5                   223   \n",
            "4  780156           3.7         5.2                   2                   159   \n",
            "\n",
            "   time_spent_company  work_accident  Promotion Department  Salary_INR  Churn  \n",
            "0                   3              0          0      sales       11053      1  \n",
            "1                   6              0          0      sales       54063      1  \n",
            "2                   4              0          0      sales       61300      1  \n",
            "3                   5              0          0      sales       20647      1  \n",
            "4                   3              0          0      sales       17808      1  \n",
            "    EmpId  Satisfaction  Evaluation  number_of_projects  average_montly_hours  \\\n",
            "0  780152           3.8         5.3                   2                   157   \n",
            "1  780153           8.0         8.6                   5                   262   \n",
            "2  780154           1.1         8.8                   7                   272   \n",
            "3  780155           7.2         8.7                   5                   223   \n",
            "4  780156           3.7         5.2                   2                   159   \n",
            "\n",
            "   time_spent_company  work_accident  Promotion Department  Salary_INR  Churn  \n",
            "0                   3              0          0      sales         217      1  \n",
            "1                   6              0          0      sales        8004      1  \n",
            "2                   4              0          0      sales        8747      1  \n",
            "3                   5              0          0      sales        2300      1  \n",
            "4                   3              0          0      sales        1690      1  \n",
            "y_test shape: (3000,)\n",
            "y_lr_pred shape: (3000,)\n",
            "0.7836666666666666\n"
          ]
        },
        {
          "output_type": "stream",
          "name": "stderr",
          "text": [
            "/usr/local/lib/python3.12/dist-packages/sklearn/linear_model/_logistic.py:465: ConvergenceWarning: lbfgs failed to converge (status=1):\n",
            "STOP: TOTAL NO. OF ITERATIONS REACHED LIMIT.\n",
            "\n",
            "Increase the number of iterations (max_iter) or scale the data as shown in:\n",
            "    https://scikit-learn.org/stable/modules/preprocessing.html\n",
            "Please also refer to the documentation for alternative solver options:\n",
            "    https://scikit-learn.org/stable/modules/linear_model.html#logistic-regression\n",
            "  n_iter_i = _check_optimize_result(\n"
          ]
        }
      ],
      "source": [
        "import pandas as pd\n",
        "from sklearn.preprocessing import LabelEncoder\n",
        "from sklearn.model_selection import train_test_split\n",
        "from sklearn.linear_model import LogisticRegression\n",
        "from sklearn.metrics import accuracy_score\n",
        "\n",
        "# Define headers\n",
        "headers = [\"EmpId\", \"Satisfaction\", \"Evaluation\", \"number_of_projects\",\n",
        "           \"average_montly_hours\", \"time_spent_company\", \"work_accident\",\n",
        "           \"Promotion\", \"Department\", \"Salary_INR\", \"Churn\"]\n",
        "\n",
        "# Read CSV with headers\n",
        "data = pd.read_csv(\"Employee_HR.csv\", names=headers, header=0)\n",
        "print(data.head())\n",
        "\n",
        "le = LabelEncoder()\n",
        "data[\"Salary_INR\"] = le.fit_transform(data[\"Salary_INR\"])\n",
        "print(data.head())\n",
        "\n",
        "x = data[[\"Satisfaction\",\"Evaluation\",\"number_of_projects\",\n",
        "          \"average_montly_hours\",\"time_spent_company\",\"work_accident\",\n",
        "          \"Promotion\",\"Salary_INR\"]]\n",
        "x.head()\n",
        "y = data[\"Churn\"]\n",
        "x.head()\n",
        "\n",
        "x_train, x_test, y_train, y_test = train_test_split(x, y, test_size=0.2, random_state=2)\n",
        "\n",
        "lr = LogisticRegression(max_iter=1000)\n",
        "lr.fit(x_train, y_train)\n",
        "\n",
        "y_lr_pred = lr.predict(x_test)\n",
        "print(\"y_test shape:\", y_test.shape)\n",
        "print(\"y_lr_pred shape:\", y_lr_pred.shape)\n",
        "\n",
        "accuracy_lr = accuracy_score(y_test, y_lr_pred)\n",
        "print(accuracy_lr)\n"
      ]
    }
  ]
}