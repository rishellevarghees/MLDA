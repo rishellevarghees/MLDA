{
  "nbformat": 4,
  "nbformat_minor": 0,
  "metadata": {
    "colab": {
      "provenance": [],
      "authorship_tag": "ABX9TyMk7LwOCnVjipn4ilS9aoN3",
      "include_colab_link": true
    },
    "kernelspec": {
      "name": "python3",
      "display_name": "Python 3"
    },
    "language_info": {
      "name": "python"
    }
  },
  "cells": [
    {
      "cell_type": "markdown",
      "metadata": {
        "id": "view-in-github",
        "colab_type": "text"
      },
      "source": [
        "<a href=\"https://colab.research.google.com/github/rishellevarghees/MLDA/blob/main/Multiple_Linear_Regression.ipynb\" target=\"_parent\"><img src=\"https://colab.research.google.com/assets/colab-badge.svg\" alt=\"Open In Colab\"/></a>"
      ]
    },
    {
      "cell_type": "code",
      "execution_count": 2,
      "metadata": {
        "colab": {
          "base_uri": "https://localhost:8080/"
        },
        "id": "Wn2Sm_OKjusV",
        "outputId": "64591287-68ef-4235-db10-dcf03799b8a8"
      },
      "outputs": [
        {
          "output_type": "stream",
          "name": "stdout",
          "text": [
            "    EmpId  Satisfaction  Evaluation  number_of_projects  average_montly_hours  \\\n",
            "0  780152           3.8         5.3                   2                   157   \n",
            "1  780153           8.0         8.6                   5                   262   \n",
            "2  780154           1.1         8.8                   7                   272   \n",
            "3  780155           7.2         8.7                   5                   223   \n",
            "4  780156           3.7         5.2                   2                   159   \n",
            "\n",
            "   time_spent_company  work_accident  Promotion Department  Salary_INR  Churn  \n",
            "0                   3              0          0      sales       11053      1  \n",
            "1                   6              0          0      sales       54063      1  \n",
            "2                   4              0          0      sales       61300      1  \n",
            "3                   5              0          0      sales       20647      1  \n",
            "4                   3              0          0      sales       17808      1  \n",
            "    EmpId  Satisfaction  Evaluation  number_of_projects  average_montly_hours  \\\n",
            "0  780152           3.8         5.3                   2                   157   \n",
            "1  780153           8.0         8.6                   5                   262   \n",
            "2  780154           1.1         8.8                   7                   272   \n",
            "3  780155           7.2         8.7                   5                   223   \n",
            "4  780156           3.7         5.2                   2                   159   \n",
            "\n",
            "   time_spent_company  work_accident  Promotion Department  Salary_INR  Churn  \n",
            "0                   3              0          0      sales         217      1  \n",
            "1                   6              0          0      sales        8004      1  \n",
            "2                   4              0          0      sales        8747      1  \n",
            "3                   5              0          0      sales        2300      1  \n",
            "4                   3              0          0      sales        1690      1  \n",
            "Linear Regression MSE: 0.1450792788494826\n",
            "Linear Regression R²: 0.21423550205460307\n"
          ]
        }
      ],
      "source": [
        "import pandas as pd\n",
        "from sklearn.preprocessing import LabelEncoder\n",
        "from sklearn.model_selection import train_test_split\n",
        "from sklearn.linear_model import LinearRegression\n",
        "from sklearn.metrics import mean_squared_error, r2_score\n",
        "\n",
        "# Add headers\n",
        "headers = [\"EmpId\", \"Satisfaction\", \"Evaluation\", \"number_of_projects\",\n",
        "           \"average_montly_hours\", \"time_spent_company\", \"work_accident\",\n",
        "           \"Promotion\", \"Department\", \"Salary_INR\", \"Churn\"]\n",
        "\n",
        "# Read CSV with headers\n",
        "data = pd.read_csv(\"Employee_HR.csv\", names=headers, header=0)\n",
        "print(data.head())\n",
        "\n",
        "le = LabelEncoder()\n",
        "data[\"Salary_INR\"] = le.fit_transform(data[\"Salary_INR\"])\n",
        "print(data.head())\n",
        "\n",
        "x = data[[\"Satisfaction\",\"Evaluation\",\"number_of_projects\",\n",
        "          \"average_montly_hours\",\"time_spent_company\",\"work_accident\",\n",
        "          \"Promotion\",\"Salary_INR\"]]\n",
        "y = data[\"Churn\"]\n",
        "\n",
        "x_train, x_test, y_train, y_test = train_test_split(x, y, test_size=0.2, random_state=2)\n",
        "\n",
        "lrr = LinearRegression()\n",
        "lrr.fit(x_train, y_train)\n",
        "\n",
        "y_lrr_pred = lrr.predict(x_test)\n",
        "mse = mean_squared_error(y_test, y_lrr_pred)\n",
        "r2 = r2_score(y_test, y_lrr_pred)\n",
        "\n",
        "print(\"Linear Regression MSE:\", mse)\n",
        "print(\"Linear Regression R²:\", r2)\n"
      ]
    }
  ]
}