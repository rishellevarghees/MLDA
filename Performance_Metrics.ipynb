{
  "nbformat": 4,
  "nbformat_minor": 0,
  "metadata": {
    "colab": {
      "provenance": [],
      "authorship_tag": "ABX9TyMTDjfBkw+FEqzXuD/7tewo",
      "include_colab_link": true
    },
    "kernelspec": {
      "name": "python3",
      "display_name": "Python 3"
    },
    "language_info": {
      "name": "python"
    }
  },
  "cells": [
    {
      "cell_type": "markdown",
      "metadata": {
        "id": "view-in-github",
        "colab_type": "text"
      },
      "source": [
        "<a href=\"https://colab.research.google.com/github/rishellevarghees/MLDA/blob/main/Performance_Metrics.ipynb\" target=\"_parent\"><img src=\"https://colab.research.google.com/assets/colab-badge.svg\" alt=\"Open In Colab\"/></a>"
      ]
    },
    {
      "cell_type": "code",
      "execution_count": 6,
      "metadata": {
        "colab": {
          "base_uri": "https://localhost:8080/"
        },
        "id": "jOekZR_NfP3c",
        "outputId": "d2c78965-a7e1-46c5-8209-a04140af3365"
      },
      "outputs": [
        {
          "output_type": "stream",
          "name": "stdout",
          "text": [
            "    EmpId  Satisfaction  Evaluation  number_of_projects  average_montly_hours  \\\n",
            "0  780152           3.8         5.3                   2                   157   \n",
            "1  780153           8.0         8.6                   5                   262   \n",
            "2  780154           1.1         8.8                   7                   272   \n",
            "3  780155           7.2         8.7                   5                   223   \n",
            "4  780156           3.7         5.2                   2                   159   \n",
            "\n",
            "   time_spent_company  work_accident  Promotion Department  Salary_INR  Churn  \n",
            "0                   3              0          0      sales       11053      1  \n",
            "1                   6              0          0      sales       54063      1  \n",
            "2                   4              0          0      sales       61300      1  \n",
            "3                   5              0          0      sales       20647      1  \n",
            "4                   3              0          0      sales       17808      1  \n",
            "    EmpId  satisfaction_level  last_evaluation  number_project  \\\n",
            "0  780152                 3.8              5.3               2   \n",
            "1  780153                 8.0              8.6               5   \n",
            "2  780154                 1.1              8.8               7   \n",
            "3  780155                 7.2              8.7               5   \n",
            "4  780156                 3.7              5.2               2   \n",
            "\n",
            "   average_montly_hours  time_spent_company  Work_accident  \\\n",
            "0                   157                   3              0   \n",
            "1                   262                   6              0   \n",
            "2                   272                   4              0   \n",
            "3                   223                   5              0   \n",
            "4                   159                   3              0   \n",
            "\n",
            "   promotion_last_5years Department  salary  left  \n",
            "0                      0      sales     217     1  \n",
            "1                      0      sales    8004     1  \n",
            "2                      0      sales    8747     1  \n",
            "3                      0      sales    2300     1  \n",
            "4                      0      sales    1690     1  \n",
            "Accuracy: 0.9773333333333334\n",
            "Linear Regression MSE: 0.1450792788494826\n",
            "Linear Regression R2: 0.21423550205460307\n"
          ]
        }
      ],
      "source": [
        "import pandas as pd\n",
        "from sklearn.preprocessing import LabelEncoder\n",
        "from sklearn.model_selection import train_test_split\n",
        "from sklearn.tree import DecisionTreeClassifier\n",
        "from sklearn.linear_model import LinearRegression\n",
        "from sklearn.metrics import accuracy_score, mean_squared_error, r2_score\n",
        "\n",
        "data = pd.read_csv(\"Employee_HR.csv\")\n",
        "print(data.head())\n",
        "\n",
        "data = data.rename(columns={\n",
        "    'Satisfaction': 'satisfaction_level',\n",
        "    'Evaluation': 'last_evaluation',\n",
        "    'number_of_projects': 'number_project',\n",
        "    'work_accident': 'Work_accident',\n",
        "    'Promotion': 'promotion_last_5years',\n",
        "    'Salary_INR': 'salary',\n",
        "    'Churn': 'left'\n",
        "})\n",
        "\n",
        "le = LabelEncoder()\n",
        "data[\"salary\"] = le.fit_transform(data[\"salary\"])\n",
        "print(data.head())\n",
        "\n",
        "x = data[[\"satisfaction_level\",\"last_evaluation\",\"number_project\",\n",
        "          \"average_montly_hours\",\"time_spent_company\",\n",
        "          \"Work_accident\",\"promotion_last_5years\",\"salary\"]]\n",
        "x.head()\n",
        "y = data[\"left\"]\n",
        "x.head()\n",
        "\n",
        "x_train, x_test, y_train, y_test = train_test_split(x, y, test_size=0.2, random_state=2)\n",
        "\n",
        "dt = DecisionTreeClassifier(criterion=\"entropy\")\n",
        "dt.fit(x_train, y_train)\n",
        "y_dt_pred = dt.predict(x_test)\n",
        "\n",
        "accuracy_dt = accuracy_score(y_test, y_dt_pred)\n",
        "print(\"Accuracy:\", accuracy_dt)\n",
        "\n",
        "lrr = LinearRegression()\n",
        "lrr.fit(x_train, y_train)\n",
        "y_lrr_pred = lrr.predict(x_test)\n",
        "\n",
        "mse = mean_squared_error(y_test, y_lrr_pred)\n",
        "r2 = r2_score(y_test, y_lrr_pred)\n",
        "\n",
        "print(\"Linear Regression MSE:\", mse)\n",
        "print(\"Linear Regression R2:\", r2)\n"
      ]
    }
  ]
}